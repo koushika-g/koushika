{
 "cells": [
  {
   "cell_type": "code",
   "execution_count": 11,
   "id": "3ab1837b",
   "metadata": {},
   "outputs": [],
   "source": [
    "import selenium\n",
    "from selenium import webdriver \n",
    "from selenium.webdriver.support.ui import Select\n",
    "import time\n",
    "import pandas as pd\n",
    "import os"
   ]
  },
  {
   "cell_type": "code",
   "execution_count": 12,
   "id": "7aea28f2",
   "metadata": {},
   "outputs": [
    {
     "data": {
      "text/plain": [
       "'C:\\\\Users\\\\Merit\\\\Desktop\\\\pythontask'"
      ]
     },
     "execution_count": 12,
     "metadata": {},
     "output_type": "execute_result"
    }
   ],
   "source": [
    "os.getcwd()"
   ]
  },
  {
   "cell_type": "code",
   "execution_count": 13,
   "id": "7c6eb730",
   "metadata": {},
   "outputs": [],
   "source": [
    "os.chdir(r\"C:\\Users\\Merit\\Desktop\\pythontask\")"
   ]
  },
  {
   "cell_type": "code",
   "execution_count": 14,
   "id": "2a480c6e",
   "metadata": {},
   "outputs": [],
   "source": [
    "driverpath=r\"C:\\Users\\Merit\\Downloads\\chromedriver_win32\\chromedriver.exe\"\n",
    "driver = webdriver.Chrome(executable_path=driverpath)\n",
    "driver=webdriver.Chrome(executable_path=driverpath)\n",
    "driver.maximize_window()\n",
    "driver.get(\"https://ai.fmcsa.dot.gov/hhg/Search.asp?ads=a\")\n",
    "writer = pd.ExcelWriter(\"us_sdrop.xlsx\", engine='xlsxwriter')\n",
    "\n",
    "for i in range(1,97):\n",
    "    a=[]\n",
    "    b=[]\n",
    "    c=[]\n",
    "    d=[]\n",
    "    driver.find_element_by_xpath(\"//label[contains(text(),'State')]//following::select[1]\").click()\n",
    "    driver.find_element_by_xpath(\"//option[contains(text(),'Please select state')]//following::option[\"+str(i)+\"]\").click()\n",
    "    name = driver.find_element_by_xpath(\"//option[contains(text(),'Please select state')]//following::option[\"+str(i)+\"]\").text;\n",
    "    \n",
    "    driver.find_element_by_xpath(\"//tbody/tr[1]/td[2]/input[3]\").click()\n",
    "    a=driver.find_elements_by_xpath(\"//body[1]/table[1]/tbody[1]/tr[3]/td[1]/table[1]/tbody[1]/tr[2]/td[3]/table[1]/tbody[1]/tr[8]/td[1]/table[1]/tbody[1]/tr[2]/td[1]//following::a\")\n",
    "    for j in range(1,len(a)-12):\n",
    "    \n",
    "        \n",
    "        s1=driver.find_elements_by_xpath(\"//body[1]/table[1]/tbody[1]/tr[3]/td[1]/table[1]/tbody[1]/tr[2]/td[3]/table[1]/tbody[1]/tr[8]/td[1]/table[1]/tbody[1]/tr[{}]/td[1]\".format(j))\n",
    "        s2=driver.find_elements_by_xpath(\"//body[1]/table[1]/tbody[1]/tr[3]/td[1]/table[1]/tbody[1]/tr[2]/td[3]/table[1]/tbody[1]/tr[8]/td[1]/table[1]/tbody[1]/tr[{}]/td[2]\".format(j))\n",
    "        s3=driver.find_elements_by_xpath(\"//body[1]/table[1]/tbody[1]/tr[3]/td[1]/table[1]/tbody[1]/tr[2]/td[3]/table[1]/tbody[1]/tr[8]/td[1]/table[1]/tbody[1]/tr[{}]/td[3]\".format(j))\n",
    "        s4=driver.find_elements_by_xpath(\"//tbody/tr[{}]/td[4]\".format(j))\n",
    "        for n in s1:\n",
    "            a.append(n.text)\n",
    "        for m in s2:\n",
    "            b.append(m.text)\n",
    "        for x in s3:\n",
    "            c.append(x.text)\n",
    "        for v in s4:\n",
    "            d.append(v.text)\n",
    "        df=pd.DataFrame(list(zip(a,b,c,d)), columns =[\"Company Name\",\"Headquarters Location\",\"Company Type\",\"Fleet Size\"])\n",
    "        df.to_excel(writer,sheet_name=name,index = False)\n",
    "    driver.back()\n",
    "writer.save()\n",
    "writer.close()\n"
   ]
  },
  {
   "cell_type": "code",
   "execution_count": null,
   "id": "4ac767c5",
   "metadata": {},
   "outputs": [],
   "source": []
  },
  {
   "cell_type": "code",
   "execution_count": null,
   "id": "6040c9e6",
   "metadata": {},
   "outputs": [],
   "source": []
  }
 ],
 "metadata": {
  "kernelspec": {
   "display_name": "Python 3",
   "language": "python",
   "name": "python3"
  },
  "language_info": {
   "codemirror_mode": {
    "name": "ipython",
    "version": 3
   },
   "file_extension": ".py",
   "mimetype": "text/x-python",
   "name": "python",
   "nbconvert_exporter": "python",
   "pygments_lexer": "ipython3",
   "version": "3.8.8"
  }
 },
 "nbformat": 4,
 "nbformat_minor": 5
}
