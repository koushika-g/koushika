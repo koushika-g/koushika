{
 "cells": [
  {
   "cell_type": "code",
   "execution_count": 10,
   "id": "4953fb88",
   "metadata": {},
   "outputs": [],
   "source": [
    "import selenium\n",
    "from selenium import webdriver \n",
    "from selenium.webdriver.support.ui import Select\n",
    "import time\n",
    "import pandas as pd\n",
    "import os"
   ]
  },
  {
   "cell_type": "code",
   "execution_count": 29,
   "id": "6c802195",
   "metadata": {},
   "outputs": [
    {
     "name": "stdout",
     "output_type": "stream",
     "text": [
      "C:\\Users\\Merit\\Desktop\\python\n"
     ]
    }
   ],
   "source": [
    "print(os.getcwd())\n",
    "os.chdir(r\"C:\\Users\\Merit\\Desktop\\pythontask\")\n",
    "driverpath=r\"C:\\Users\\Merit\\Downloads\\chromedriver_win32\\chromedriver.exe\""
   ]
  },
  {
   "cell_type": "code",
   "execution_count": 30,
   "id": "b2ac69d3",
   "metadata": {},
   "outputs": [
    {
     "name": "stdout",
     "output_type": "stream",
     "text": [
      "country name: ['India', 'Ireland', 'Pakistan', 'Australia', 'Sri Lanka', 'Bangladesh', 'England', 'West Indies', 'South Africa', 'Zimbabwe', 'New Zealand', 'Afghanistan', 'Italy', 'Botswana', 'Iran', 'Belgium', 'Denmark', 'Namibia', 'Singapore', 'Bermuda', 'Canada', 'Uganda', 'Malaysia', 'Nepal', 'Netherlands', 'Scotland', 'United Arab Emirates', 'Hong Kong', 'Kenya', 'United States', 'Germany', 'Fiji', 'Kuwait', 'Vanuatu', 'Jersey', 'Oman', 'Papua New Guinea']\n"
     ]
    }
   ],
   "source": [
    "driver = webdriver.Chrome(executable_path=driverpath)\n",
    "driver.get(\"https://www.cricbuzz.com/cricket-team\")\n",
    "country=driver.find_elements_by_xpath(\"//body/div[1]/div[2]/div[5]/div[1]\")\n",
    "l=[]\n",
    "for i in country:\n",
    "    l.append(i.text)\n",
    "    l1=l[0].split('\\n')\n",
    "    print(\"country name:\",l1)\n",
    "img=driver.find_elements_by_xpath(\"//div[contains(@class,'cb-col cb-col-25')]\")\n",
    "for i,j in zip(img,l1):\n",
    "    with open(j+\".png\",\"wb\")as a:\n",
    "        a.write(i.screenshot_as_png)\n",
    "driver.close()"
   ]
  },
  {
   "cell_type": "code",
   "execution_count": 7,
   "id": "77ce330a",
   "metadata": {},
   "outputs": [],
   "source": []
  },
  {
   "cell_type": "code",
   "execution_count": null,
   "id": "01873d1d",
   "metadata": {},
   "outputs": [],
   "source": []
  }
 ],
 "metadata": {
  "kernelspec": {
   "display_name": "Python 3",
   "language": "python",
   "name": "python3"
  },
  "language_info": {
   "codemirror_mode": {
    "name": "ipython",
    "version": 3
   },
   "file_extension": ".py",
   "mimetype": "text/x-python",
   "name": "python",
   "nbconvert_exporter": "python",
   "pygments_lexer": "ipython3",
   "version": "3.8.8"
  }
 },
 "nbformat": 4,
 "nbformat_minor": 5
}
