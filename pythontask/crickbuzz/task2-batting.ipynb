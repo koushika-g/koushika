{
 "cells": [
  {
   "cell_type": "code",
   "execution_count": 6,
   "id": "ae1b9ee5",
   "metadata": {},
   "outputs": [],
   "source": [
    "import selenium\n",
    "from selenium import webdriver \n",
    "from selenium.webdriver.support.ui import Select\n",
    "import time\n",
    "import pandas as pd\n",
    "import os\n"
   ]
  },
  {
   "cell_type": "code",
   "execution_count": 7,
   "id": "1cf2c111",
   "metadata": {},
   "outputs": [],
   "source": [
    "os.chdir(r\"C:\\Users\\Merit\\Desktop\\pythontask\")\n",
    "driverpath=r\"C:\\Users\\Merit\\Downloads\\chromedriver_win32\\chromedriver.exe\""
   ]
  },
  {
   "cell_type": "code",
   "execution_count": 12,
   "id": "2d4d3510",
   "metadata": {},
   "outputs": [
    {
     "name": "stdout",
     "output_type": "stream",
     "text": [
      "[['1', '    –', 'Kane Williamson', 'NEW ZEALAND', '901'], ['2', '    3', 'Joe Root', 'ENGLAND', '893'], ['3', '    1', 'Steven Smith', 'AUSTRALIA', '891'], ['4', '    1', 'Marnus Labuschagne', 'AUSTRALIA', '878'], ['5', '    1', 'Virat Kohli', 'INDIA', '776'], ['6', '    –', 'Rohit Sharma', 'INDIA', '773'], ['7', '    –', 'Rishabh Pant', 'INDIA', '736'], ['8', '    3', 'Babar Azam', 'PAKISTAN', '725'], ['9', '    1', 'David Warner', 'AUSTRALIA', '724'], ['10', '    1', 'Quinton de Kock', 'SOUTH AFRICA', '717'], ['11', '    1', 'Henry Nicholls', 'NEW ZEALAND', '714'], ['12', '    –', 'Dimuth Karunaratne', 'SRI LANKA', '712'], ['13', '    1', 'Ross Taylor', 'NEW ZEALAND', '693'], ['14', '    3', 'Tom Latham', 'NEW ZEALAND', '677'], ['15', '    2', 'Ajinkya Rahane', 'INDIA', '677'], ['16', '    1', 'Ben Stokes', 'ENGLAND', '677'], ['17', '    2', 'Dean Elgar', 'SOUTH AFRICA', '661'], ['18', '    2', 'Cheteshwar Pujara', 'INDIA', '658'], ['19', '    1', 'Azhar Ali', 'PAKISTAN', '658'], ['20', '    –', 'Aiden Markram', 'SOUTH AFRICA', '651'], ['21', '    –', 'Mohammad Rizwan', 'PAKISTAN', '637'], ['22', '    1', 'Mushfiqur Rahim', 'BANGLADESH', '626'], ['23', '    1', 'Travis Head', 'AUSTRALIA', '618'], ['24', '    1', 'Angelo Mathews', 'SRI LANKA', '618'], ['25', '    2', 'Tamim Iqbal', 'BANGLADESH', '605'], ['26', '    2', 'Sean Williams', 'ZIMBABWE', '603'], ['27', '    2', 'Brendan Taylor', 'ZIMBABWE', '603'], ['28', '    6', 'Rory Burns', 'ENGLAND', '600'], ['29', '    1', 'Mominul Haque', 'BANGLADESH', '596'], ['30', '    2', 'Niroshan Dickwella', 'SRI LANKA', '589'], ['31', '    2', 'Dhananjaya de Silva', 'SRI LANKA', '588'], ['32', '    1', 'Mayank Agarwal', 'INDIA', '583'], ['33', '    7', 'Jos Buttler', 'ENGLAND', '582'], ['34', '    1', 'Faf du Plessis', 'SOUTH AFRICA', '570'], ['35', '    1', 'Asad Shafiq', 'PAKISTAN', '567'], ['36', '    9', 'Jermaine Blackwood', 'WEST INDIES', '567'], ['37', '    38', 'KL Rahul', 'INDIA', '559'], ['38', '    2', 'Ravindra Jadeja', 'INDIA', '557'], ['39', '    1', 'Tim Paine', 'AUSTRALIA', '555'], ['40', '    3', 'Abid Ali', 'PAKISTAN', '553'], ['41', '    2', 'Shakib Al Hasan', 'BANGLADESH', '553'], ['42', '    1', 'Colin de Grandhomme', 'NEW ZEALAND', '549'], ['43', '    7', 'Jason Holder', 'WEST INDIES', '548'], ['44', '    2', 'Devon Conway', 'NEW ZEALAND', '547'], ['45', '    19', 'Kraigg Brathwaite', 'WEST INDIES', '545'], ['46', '    3', 'Rassie van der Dussen', 'SOUTH AFRICA', '542'], ['47', '    3', 'Mahmudullah', 'BANGLADESH', '540'], ['48', '    6', 'Faheem Ashraf', 'PAKISTAN', '529'], ['49', '    3', 'Dinesh Chandimal', 'SRI LANKA', '526'], ['50', '    3', 'Sikandar Raza', 'ZIMBABWE', '523'], ['51', '    3', 'Craig Ervine', 'ZIMBABWE', '522'], ['52', '    3', 'Tom Blundell', 'NEW ZEALAND', '519'], ['53', '    2', 'Temba Bavuma', 'SOUTH AFRICA', '518'], ['54', '    1', 'Kusal Mendis', 'SRI LANKA', '514'], ['55', '    5', 'Fawad Alam', 'PAKISTAN', '512'], ['56', '    1', 'Liton Das', 'BANGLADESH', '509'], ['57', '    5', 'Ollie Pope', 'ENGLAND', '504'], ['58', '    1', 'Matthew Wade', 'AUSTRALIA', '501'], ['59', '    1', 'Shan Masood', 'PAKISTAN', '500'], ['60', '    1', 'Oshada Fernando', 'SRI LANKA', '499'], ['61', '    1', 'Lahiru Thirimanne', 'SRI LANKA', '498'], ['62', '    1', 'Joe Burns', 'AUSTRALIA', '497'], ['63', '    4', 'Asghar Afghan', 'AFGHANISTAN', '487'], ['64', '    4', 'Ibrahim Zadran', 'AFGHANISTAN', '486'], ['65', '    5', 'Kusal Perera', 'SRI LANKA', '485'], ['66', '    9', 'Dominic Sibley', 'ENGLAND', '483'], ['67', '    2', 'Shane Dowrich', 'WEST INDIES', '481'], ['68', '    3', 'Hanuma Vihari', 'INDIA', '480'], ['69', '    3', 'Washington Sundar', 'INDIA', '479'], ['70', '    2', 'Joe Denly', 'ENGLAND', '470'], ['71', '    2', 'Shubman Gill', 'INDIA', '468'], ['72', '    5', 'Jonny Bairstow', 'ENGLAND', '463'], ['73', '    3', 'Roston Chase', 'WEST INDIES', '457'], ['74', '    18', 'Nkrumah Bonner', 'WEST INDIES', '455'], ['75', '    3', 'Zak Crawley', 'ENGLAND', '430'], ['76', '    5', 'Kyle Jamieson', 'NEW ZEALAND', '429'], ['77', '    6', 'Kyle Mayers', 'WEST INDIES', '429'], ['78', '    1', 'Shamarh Brooks', 'WEST INDIES', '428'], ['79', '    3', 'Regis Chakabva', 'ZIMBABWE', '427'], ['80', '    –', 'Shai Hope', 'WEST INDIES', '426'], ['81', '    4', 'Ravichandran Ashwin', 'INDIA', '407'], ['82', '    4', 'Haris Sohail', 'PAKISTAN', '400'], ['83', '    5', 'Hashmatullah Shahidi', 'AFGHANISTAN', '397'], ['84', '    3', 'John Campbell', 'WEST INDIES', '397'], ['85', '    6', 'Sam Curran', 'ENGLAND', '396'], ['86', '    6', 'Darren Bravo', 'WEST INDIES', '384'], ['87', '    7', 'Soumya Sarkar', 'BANGLADESH', '378'], ['88', '    7', 'Rahmat Shah', 'AFGHANISTAN', '377'], ['90', '    7', 'Mitchell Starc', 'AUSTRALIA', '370'], ['91', '    7', 'Cameron Green', 'AUSTRALIA', '368'], ['92', '    7', 'Shadman Islam', 'BANGLADESH', '368'], ['93', '    3', 'Chris Woakes', 'ENGLAND', '365'], ['94', '    1', 'Kieran Powell', 'WEST INDIES', '363'], ['95', '    –', 'Mitchell Santner', 'NEW ZEALAND', '355'], ['96', '    –', 'Moeen Ali', 'ENGLAND', '348'], ['97', '    –', 'Daryl Mitchell', 'NEW ZEALAND', '347'], ['98', '    –', 'Joshua Da Silva', 'WEST INDIES', '345'], ['100', '    –', 'Ben Foakes', 'ENGLAND', '336'], [''], [''], [''], [''], [''], [''], [''], [''], [''], [''], [''], [''], [''], [''], [''], [''], [''], [''], [''], [''], [''], [''], [''], [''], [''], [''], [''], [''], [''], [''], [''], [''], [''], [''], [''], [''], [''], [''], [''], [''], [''], [''], [''], [''], [''], [''], [''], [''], [''], [''], [''], [''], [''], [''], [''], [''], [''], [''], [''], [''], [''], [''], [''], [''], [''], [''], [''], [''], [''], [''], [''], [''], [''], [''], [''], [''], [''], [''], [''], [''], [''], [''], [''], [''], [''], [''], [''], [''], [''], [''], [''], [''], [''], [''], [''], [''], [''], [''], [''], [''], [''], [''], [''], [''], [''], [''], [''], [''], [''], [''], [''], [''], [''], [''], [''], [''], [''], [''], [''], [''], [''], [''], [''], [''], [''], [''], [''], [''], [''], [''], [''], [''], [''], [''], [''], [''], [''], [''], [''], [''], [''], [''], [''], [''], [''], [''], [''], [''], [''], [''], [''], [''], [''], [''], [''], [''], [''], [''], [''], [''], [''], [''], [''], [''], [''], [''], [''], [''], [''], [''], [''], [''], [''], [''], [''], [''], [''], [''], [''], [''], [''], [''], [''], [''], [''], [''], [''], [''], [''], [''], [''], [''], [''], [''], [''], [''], ['']] [['1', '    –', 'Babar Azam', 'PAKISTAN', '873'], ['2', '    –', 'Virat Kohli', 'INDIA', '844'], ['3', '    –', 'Rohit Sharma', 'INDIA', '813'], ['4', '    –', 'Ross Taylor', 'NEW ZEALAND', '801'], ['5', '    –', 'Aaron Finch', 'AUSTRALIA', '779'], ['6', '    –', 'Jonny Bairstow', 'ENGLAND', '775'], ['7', '    –', 'David Warner', 'AUSTRALIA', '762'], ['8', '    2', 'Quinton de Kock', 'SOUTH AFRICA', '758'], ['9', '    1', 'Shai Hope', 'WEST INDIES', '758'], ['10', '    1', 'Kane Williamson', 'NEW ZEALAND', '754'], ['11', '    1', 'Fakhar Zaman', 'PAKISTAN', '741'], ['12', '    1', 'Joe Root', 'ENGLAND', '740'], ['13', '    1', 'Mushfiqur Rahim', 'BANGLADESH', '723'], ['14', '    1', 'Imam-ul-Haq', 'PAKISTAN', '717'], ['15', '    3', 'Martin Guptill', 'NEW ZEALAND', '707'], ['16', '    –', 'Shikhar Dhawan', 'INDIA', '704'], ['17', '    –', 'Steven Smith', 'AUSTRALIA', '696'], ['18', '    1', 'Jason Roy', 'ENGLAND', '687'], ['19', '    2', 'Rassie van der Dussen', 'SOUTH AFRICA', '678'], ['20', '    –', 'Glenn Maxwell', 'AUSTRALIA', '674'], ['21', '    2', 'Tamim Iqbal', 'BANGLADESH', '670'], ['22', '    5', 'Alex Carey', 'AUSTRALIA', '669'], ['23', '    1', 'Paul Stirling', 'IRELAND', '664'], ['24', '    1', 'Ben Stokes', 'ENGLAND', '651'], ['25', '    1', 'Eoin Morgan', 'ENGLAND', '650'], ['26', '    2', 'Shakib Al Hasan', 'BANGLADESH', '641'], ['27', '    2', 'KL Rahul', 'INDIA', '636'], ['28', '    3', 'David Miller', 'SOUTH AFRICA', '632'], ['29', '    3', 'Tom Latham', 'NEW ZEALAND', '624'], ['30', '    3', 'Nicholas Pooran', 'WEST INDIES', '615'], ['31', '    3', 'Jos Buttler', 'ENGLAND', '608'], ['32', '    2', 'Shimron Hetmyer', 'WEST INDIES', '607'], ['33', '    2', 'Haris Sohail', 'PAKISTAN', '594'], ['34', '    2', 'Henry Nicholls', 'NEW ZEALAND', '581'], ['35', '    2', 'Aqib Ilyas', 'OMAN', '578'], ['36', '    2', 'Andrew Balbirnie', 'IRELAND', '575'], ['37', '    2', 'Kyle Coetzer', 'SCOTLAND', '573'], ['38', '    2', 'Brendan Taylor', 'ZIMBABWE', '572'], ['39', '    2', 'Mahmudullah', 'BANGLADESH', '571'], ['40', '    2', 'Kusal Perera', 'SRI LANKA', '560'], ['41', '    3', 'Rahmat Shah', 'AFGHANISTAN', '559'], ['42', '    1', 'Evin Lewis', 'WEST INDIES', '558'], ['43', '    2', 'Liton Das', 'BANGLADESH', '558'], ['44', '    4', 'Sean Williams', 'ZIMBABWE', '553'], ['45', '    1', 'Kedar Jadhav', 'INDIA', '552'], ['46', '    1', 'Angelo Mathews', 'SRI LANKA', '550'], ['47', '    2', 'Hardik Pandya', 'INDIA', '548'], ['48', '    3', 'Sikandar Raza', 'ZIMBABWE', '540'], ['49', '    1', 'Danushka Gunathilaka', 'SRI LANKA', '538'], ['50', '    3', 'Kusal Mendis', 'SRI LANKA', '526'], ['51', '    4', 'Imad Wasim', 'PAKISTAN', '525'], ['52', '    16', 'Avishka Fernando', 'SRI LANKA', '522'], ['53', '    3', 'Soumya Sarkar', 'BANGLADESH', '521'], ['54', '    –', 'Marcus Stoinis', 'AUSTRALIA', '517'], ['55', '    3', 'Calum MacLeod', 'SCOTLAND', '508'], ['56', '    3', 'Colin de Grandhomme', 'NEW ZEALAND', '507'], ['57', '    3', 'Najibullah Zadran', 'AFGHANISTAN', '506'], ['58', '    5', 'Sarfaraz Ahmed', 'PAKISTAN', '504'], ['59', '    3', 'Niroshan Dickwella', 'SRI LANKA', '503'], ['60', '    5', 'Hashmatullah Shahidi', 'AFGHANISTAN', '498'], ['61', '    –', 'Marnus Labuschagne', 'AUSTRALIA', '498'], ['62', '    4', 'James Neesham', 'NEW ZEALAND', '495'], ['63', '    6', 'Mohammad Nabi', 'AFGHANISTAN', '494'], ['64', '    6', 'Mitchell Marsh', 'AUSTRALIA', '489'], ['65', '    6', 'Janneman Malan', 'SOUTH AFRICA', '485'], ['66', '    7', 'Asghar Afghan', 'AFGHANISTAN', '479'], ['67', '    7', 'Richie Berrington', 'SCOTLAND', '479'], ['68', '    7', 'Shreyas Iyer', 'INDIA', '472'], ['69', '    8', 'Mohammad Usman', 'UNITED ARAB EMIRATES', '471'], ['70', '    8', 'William Porterfield', 'IRELAND', '471'], ['71', '    5', 'Dhananjaya de Silva', 'SRI LANKA', '461'], ['72', '    8', 'Mitchell Santner', 'NEW ZEALAND', '460'], ['73', '    8', 'Craig Ervine', 'ZIMBABWE', '457'], ['74', '    9', 'Jason Holder', 'WEST INDIES', '446'], ['75', '    7', 'Aiden Markram', 'SOUTH AFRICA', '445'], ['76', '    9', 'Temba Bavuma', 'SOUTH AFRICA', '443'], ['77', '    9', 'Heinrich Klaasen', 'SOUTH AFRICA', '442'], ['78', '    9', 'Andile Phehlukwayo', 'SOUTH AFRICA', '439'], ['79', '    5', 'Assad Vala', 'PAPUA NEW GUINEA', '439'], ['80', '    8', 'Lahiru Thirimanne', 'SRI LANKA', '436'], ['81', '    9', 'Harry Tector', 'IRELAND', '434'], ['82', '    7', 'Ravindra Jadeja', 'INDIA', '434'], ['83', '    8', 'Mohammad Mithun', 'BANGLADESH', '433'], ['84', '    8', 'Rashid Khan', 'AFGHANISTAN', '432'], ['85', '    8', 'George Munsey', 'SCOTLAND', '430'], ['86', '    9', 'Rishabh Pant', 'INDIA', '426'], ['87', '    –', 'Matthew Wade', 'AUSTRALIA', '424'], ['88', '    8', 'Rovman Powell', 'WEST INDIES', '419'], ['89', '    10', 'Curtis Campher', 'IRELAND', '418'], ['90', '    7', 'Dasun Shanaka', 'SRI LANKA', '418'], ['91', '    7', 'Dinesh Chandimal', 'SRI LANKA', '417'], ['92', '    –', 'Kieron Pollard', 'WEST INDIES', '416'], ['93', '    –', 'Gulbadin Naib', 'AFGHANISTAN', '415'], ['94', '    –', 'Mohammad Rizwan', 'PAKISTAN', '414'], ['95', '    5', 'Tony Ura', 'PAPUA NEW GUINEA', '412'], ['96', '    –', 'Moeen Ali', 'ENGLAND', '404'], ['97', '    –', 'Wanindu Hasaranga', 'SRI LANKA', '403'], ['98', '    –', 'Chris Woakes', 'ENGLAND', '403'], ['99', '    –', 'Simi Singh', 'IRELAND', '402'], ['100', '    –', 'Matthew Cross', 'SCOTLAND', '398']] "
     ]
    },
    {
     "name": "stdout",
     "output_type": "stream",
     "text": [
      "[['1', '    –', 'Dawid Malan', 'ENGLAND', '841'], ['2', '    –', 'Babar Azam', 'PAKISTAN', '819'], ['3', '    1', 'Devon Conway', 'NEW ZEALAND', '774'], ['4', '    1', 'Aaron Finch', 'AUSTRALIA', '733'], ['5', '    –', 'Virat Kohli', 'INDIA', '717'], ['6', '    –', 'KL Rahul', 'INDIA', '699'], ['7', '    –', 'Mohammad Rizwan', 'PAKISTAN', '692'], ['8', '    1', 'Martin Guptill', 'NEW ZEALAND', '688'], ['9', '    1', 'Evin Lewis', 'WEST INDIES', '664'], ['10', '    –', 'Rassie van der Dussen', 'SOUTH AFRICA', '650'], ['11', '    –', 'Hazratullah Zazai', 'AFGHANISTAN', '636'], ['12', '    1', 'Quinton de Kock', 'SOUTH AFRICA', '609'], ['13', '    3', 'Eoin Morgan', 'ENGLAND', '599'], ['14', '    3', 'Jason Roy', 'ENGLAND', '592'], ['15', '    3', 'Colin Munro', 'NEW ZEALAND', '592'], ['16', '    3', 'Jos Buttler', 'ENGLAND', '590'], ['17', '    3', 'Jonny Bairstow', 'ENGLAND', '588'], ['18', '    3', 'George Munsey', 'SCOTLAND', '583'], ['19', '    5', 'Rohit Sharma', 'INDIA', '577'], ['20', '    2', 'Rahmanullah Gurbaz', 'AFGHANISTAN', '576'], ['21', '    16', 'Mitchell Marsh', 'AUSTRALIA', '575'], ['22', '    1', 'Tim Seifert', 'NEW ZEALAND', '573'], ['23', '    11', 'Glenn Maxwell', 'AUSTRALIA', '567'], ['24', '    –', 'Paul Stirling', 'IRELAND', '566'], ['25', '    10', 'Aiden Markram', 'SOUTH AFRICA', '563'], ['26', '    –', 'Glenn Phillips', 'NEW ZEALAND', '544'], ['28', '    –', 'Richie Berrington', 'SCOTLAND', '542'], ['29', '    –', 'Mohammad Naim', 'BANGLADESH', '536'], ['30', '    2', 'Reeza Hendricks', 'SOUTH AFRICA', '526'], ['31', '    3', 'Shikhar Dhawan', 'INDIA', '526'], ['32', '    1', 'Mohammad Nabi', 'AFGHANISTAN', '523'], ['33', '    9', 'David Miller', 'SOUTH AFRICA', '518'], ['34', '    1', 'Mahmudullah', 'BANGLADESH', '518'], ['35', '    10', 'Shreyas Iyer', 'INDIA', '516'], ['36', '    1', 'Kane Williamson', 'NEW ZEALAND', '512'], ['37', '    1', 'Kyle Coetzer', 'SCOTLAND', '511'], ['38', '    –', 'Andrew Balbirnie', 'IRELAND', '505'], ['39', '    1', 'Tony Ura', 'PAPUA NEW GUINEA', '503'], ['40', '    5', 'Ben Cooper', 'NETHERLANDS', '493'], ['41', '    5', 'Najibullah Zadran', 'AFGHANISTAN', '492'], ['42', '    5', 'Max ODowd', 'NETHERLANDS', '491'], ['43', '    2', 'Kevin O Brien', 'IRELAND', '491'], ['44', '    1', 'Soumya Sarkar', 'BANGLADESH', '483'], ['45', '    3', 'Calum MacLeod', 'SCOTLAND', '483'], ['46', '    3', 'Jatinder Singh', 'OMAN', '482'], ['47', '    3', 'Fakhar Zaman', 'PAKISTAN', '481'], ['48', '    16', 'Nicholas Pooran', 'WEST INDIES', '481'], ['49', '    10', 'Kusal Perera', 'SRI LANKA', '478'], ['50', '    17', 'Suryakumar Yadav', 'INDIA', '477'], ['51', '    1', 'Matthew Cross', 'SCOTLAND', '474'], ['52', '    –', 'Asghar Afghan', 'AFGHANISTAN', '472'], ['53', '    9', 'Shakib Al Hasan', 'BANGLADESH', '469'], ['54', '    –', 'Mohammad Usman', 'UNITED ARAB EMIRATES', '458'], ['55', '    –', 'Tim David', 'SINGAPORE', '457'], ['56', '    26', 'Liton Das', 'BANGLADESH', '449'], ['57', '    4', 'Mohammad Hafeez', 'PAKISTAN', '446'], ['58', '    1', 'Kamran Khan', 'QATAR', '445'], ['59', '    8', 'Lendl Simmons', 'WEST INDIES', '443'], ['60', '    1', 'Kushal Bhurtel', 'NEPAL', '442'], ['61', '    2', 'Ravija Sandaruwan', 'KUWAIT', '435'], ['62', '    4', 'Collins Obuya', 'KENYA', '429'], ['63', '    7', 'Danushka Gunathilaka', 'SRI LANKA', '423'], ['64', '    6', 'Gerhard Erasmus', 'NAMIBIA', '421'], ['66', '    1', 'Faf du Plessis', 'SOUTH AFRICA', '417'], ['67', '    1', 'Kieron Pollard', 'WEST INDIES', '417'], ['68', '    24', 'Temba Bavuma', 'SOUTH AFRICA', '411'], ['69', '    6', 'Nizakat Khan', 'HONG KONG', '405'], ['70', '    13', 'D Arcy Short', 'AUSTRALIA', '404'], ['71', '    11', 'David Warner', 'AUSTRALIA', '401'], ['72', '    –', 'Shimron Hetmyer', 'WEST INDIES', '401'], ['73', '    6', 'Zeeshan Maqsood', 'OMAN', '398'], ['74', '    3', 'Sean Williams', 'ZIMBABWE', '396'], ['75', '    6', 'Rakep Patel', 'KENYA', '394'], ['76', '    2', 'Heinrich Klaasen', 'SOUTH AFRICA', '393'], ['77', '    –', 'Gareth Delany', 'IRELAND', '388'], ['78', '    6', 'Ross Taylor', 'NEW ZEALAND', '388'], ['79', '    6', 'Finn Allen', 'NEW ZEALAND', '384'], ['80', '    6', 'Rishabh Pant', 'INDIA', '383'], ['81', '    5', 'Muhammad Tanveer', 'QATAR', '382'], ['82', '    24', 'Tamim Iqbal', 'BANGLADESH', '381'], ['83', '    10', 'Matthew Wade', 'AUSTRALIA', '378'], ['84', '    4', 'Navneet Dhaliwal', 'CANADA', '375'], ['85', '    5', 'Kusal Mendis', 'SRI LANKA', '373'], ['86', '    3', 'Rohan Mustafa', 'UNITED ARAB EMIRATES', '370'], ['87', '    3', 'Usman Ghani', 'AFGHANISTAN', '367'], ['88', '    –', 'Ryan Burl', 'ZIMBABWE', '366'], ['89', '    6', 'Harry Tector', 'IRELAND', '365'], ['90', '    1', 'Paras Khadka', 'NEPAL', '362'], ['91', '    2', 'Khawar Ali', 'OMAN', '360'], ['92', '    23', 'Mushfiqur Rahim', 'BANGLADESH', '359'], ['93', '    1', 'Ryan ten Doeschate', 'NETHERLANDS', '358'], ['94', '    1', 'Gyanendra Malla', 'NEPAL', '357'], ['95', '    1', 'Nitish Kumar', 'CANADA', '356'], ['96', '    9', 'Manish Pandey', 'INDIA', '354'], ['97', '    15', 'Steven Smith', 'AUSTRALIA', '352'], ['99', '    23', 'Sabbir Rahman', 'BANGLADESH', '345'], ['100', '    1', 'Samiullah Shinwari', 'AFGHANISTAN', '344']]     Position    NAN              Player      Country  Rating\n",
      "0          1      –     Kane Williamson  NEW ZEALAND     901\n",
      "1          2      3            Joe Root      ENGLAND     893\n",
      "2          3      1        Steven Smith    AUSTRALIA     891\n",
      "3          4      1  Marnus Labuschagne    AUSTRALIA     878\n",
      "4          5      1         Virat Kohli        INDIA     776\n",
      "..       ...    ...                 ...          ...     ...\n",
      "93        95      –    Mitchell Santner  NEW ZEALAND     355\n",
      "94        96      –           Moeen Ali      ENGLAND     348\n",
      "95        97      –      Daryl Mitchell  NEW ZEALAND     347\n",
      "96        98      –     Joshua Da Silva  WEST INDIES     345\n",
      "97       100      –          Ben Foakes      ENGLAND     336\n",
      "\n",
      "[98 rows x 5 columns]\n"
     ]
    }
   ],
   "source": [
    "driver = webdriver.Chrome(executable_path=driverpath)\n",
    "driver.get(\"https://www.cricbuzz.com/cricket-stats/icc-rankings/men/batting\")\n",
    "\n",
    "driver.find_element_by_xpath(\"//a[@id='batsmen-tests-tab']\").click()\n",
    "a=driver.find_elements_by_xpath(\"//a[@id='batsmen-tests-tab']//following::div[contains(@class,'cb-col cb-col-100 cb-font-14 cb-lst-itm text-center')]\")\n",
    "l=[]\n",
    "for i in a:\n",
    "    l.append(i.text.split(\"\\n\"))\n",
    "print(l,end=\" \")\n",
    "driver.find_element_by_xpath(\"//a[@id='batsmen-odis-tab']\").click()\n",
    "c=driver.find_elements_by_xpath(\"//a[@id='batsmen-odis-tab']//following::div[contains(@class,'cb-col cb-col-100 cb-font-14 cb-lst-itm text-center')]\")\n",
    "l1=[]\n",
    "for j in c:\n",
    "    if j.text!='':\n",
    "        l1.append(j.text.split(\"\\n\"))\n",
    "print(l1,end=\" \")\n",
    "driver.find_element_by_xpath(\"//a[@id='batsmen-t20s-tab']\").click()\n",
    "d=driver.find_elements_by_xpath(\"//a[@id='batsmen-t20s-tab']//following::div[contains(@class,'cb-col cb-col-100 cb-font-14 cb-lst-itm text-center')]\")\n",
    "\n",
    "l2=[]\n",
    "for k in d:\n",
    "    if k.text!='':\n",
    "        l2.append(k.text.split(\"\\n\"))\n",
    "print(l2,end=\" \")\n",
    "\n",
    "writer = pd.ExcelWriter('batting.xlsx', engine='xlsxwriter')\n",
    "df = pd.DataFrame(l, columns = [\"Position\",\"NAN\",\"Player\",\"Country\",\"Rating\"])\n",
    "df1 = pd.DataFrame(l1, columns = [\"Position\",\"NAN\",\"Player\",\"Country\",\"Rating\"])\n",
    "df2 = pd.DataFrame(l2, columns = [\"Position\",\"NAN\",\"Player\",\"Country\",\"Rating\"])\n",
    "\n",
    "time.sleep(2)\n",
    "\n",
    "writer.save()\n",
    "\n",
    "writer = pd.ExcelWriter('batting.xlsx', engine='xlsxwriter')\n",
    "\n",
    "df.to_excel(writer, sheet_name='batting-TEST', index=False)\n",
    "df1.to_excel(writer,sheet_name='batting-ODI', index=False)\n",
    "df2.to_excel(writer,sheet_name='batting-T20', index=False)\n",
    "\n",
    "writer.save()\n",
    "reader = pd.read_excel(r'batting.xlsx')\n",
    "print(reader)\n",
    "df.to_excel(writer,index=False,header=False)\n",
    "df1.to_excel(writer,index=False,header=False)\n",
    "df2.to_excel(writer,index=False,header=False)\n",
    "\n"
   ]
  },
  {
   "cell_type": "code",
   "execution_count": null,
   "id": "0eda3a3c",
   "metadata": {},
   "outputs": [],
   "source": []
  },
  {
   "cell_type": "code",
   "execution_count": null,
   "id": "8d5a0f35",
   "metadata": {},
   "outputs": [],
   "source": []
  },
  {
   "cell_type": "code",
   "execution_count": null,
   "id": "180edb92",
   "metadata": {},
   "outputs": [],
   "source": []
  },
  {
   "cell_type": "code",
   "execution_count": null,
   "id": "682dfa96",
   "metadata": {},
   "outputs": [],
   "source": []
  }
 ],
 "metadata": {
  "kernelspec": {
   "display_name": "Python 3",
   "language": "python",
   "name": "python3"
  },
  "language_info": {
   "codemirror_mode": {
    "name": "ipython",
    "version": 3
   },
   "file_extension": ".py",
   "mimetype": "text/x-python",
   "name": "python",
   "nbconvert_exporter": "python",
   "pygments_lexer": "ipython3",
   "version": "3.8.8"
  }
 },
 "nbformat": 4,
 "nbformat_minor": 5
}
