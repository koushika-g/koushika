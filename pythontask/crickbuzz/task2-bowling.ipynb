{
 "cells": [
  {
   "cell_type": "code",
   "execution_count": 4,
   "id": "4e1d38cf",
   "metadata": {},
   "outputs": [],
   "source": [
    "import selenium\n",
    "from selenium import webdriver \n",
    "from selenium.webdriver.support.ui import Select"
   ]
  },
  {
   "cell_type": "code",
   "execution_count": 5,
   "id": "a51e2ea9",
   "metadata": {},
   "outputs": [],
   "source": [
    "import time\n",
    "import pandas as pd\n",
    "import os"
   ]
  },
  {
   "cell_type": "code",
   "execution_count": 6,
   "id": "dd5997a3",
   "metadata": {},
   "outputs": [],
   "source": [
    "os.chdir(r\"C:\\Users\\Merit\\Desktop\\pythontask\")"
   ]
  },
  {
   "cell_type": "code",
   "execution_count": 7,
   "id": "c9d1961b",
   "metadata": {},
   "outputs": [],
   "source": [
    "driverpath=r\"C:\\Users\\Merit\\Downloads\\chromedriver_win32\\chromedriver.exe\""
   ]
  },
  {
   "cell_type": "code",
   "execution_count": 12,
   "id": "0ca48169",
   "metadata": {},
   "outputs": [
    {
     "name": "stdout",
     "output_type": "stream",
     "text": [
      "[['1', '    –', 'Pat Cummins', 'AUSTRALIA', '908'], ['2', '    –', 'Ravichandran Ashwin', 'INDIA', '848'], ['3', '    –', 'Tim Southee', 'NEW ZEALAND', '824'], ['4', '    –', 'Josh Hazlewood', 'AUSTRALIA', '816'], ['5', '    –', 'Neil Wagner', 'NEW ZEALAND', '810'], ['6', '    2', 'James Anderson', 'ENGLAND', '800'], ['7', '    1', 'Kagiso Rabada', 'SOUTH AFRICA', '798'], ['8', '    1', 'Stuart Broad', 'ENGLAND', '764'], ['9', '    1', 'Jason Holder', 'WEST INDIES', '756'], ['10', '    9', 'Jasprit Bumrah', 'INDIA', '754'], ['11', '    1', 'Kemar Roach', 'WEST INDIES', '751'], ['12', '    3', 'Mitchell Starc', 'AUSTRALIA', '744'], ['13', '    2', 'Trent Boult', 'NEW ZEALAND', '738'], ['14', '    1', 'Kyle Jamieson', 'NEW ZEALAND', '725'], ['15', '    1', 'Hasan Ali', 'PAKISTAN', '723'], ['16', '    –', 'Ishant Sharma', 'INDIA', '717'], ['17', '    2', 'Mohammad Abbas', 'PAKISTAN', '709'], ['18', '    4', 'Shaheen Afridi', 'PAKISTAN', '699'], ['19', '    1', 'Mohammed Shami', 'INDIA', '676'], ['20', '    –', 'Nathan Lyon', 'AUSTRALIA', '668'], ['21', '    4', 'Ravindra Jadeja', 'INDIA', '645'], ['22', '    1', 'Suranga Lakmal', 'SRI LANKA', '635'], ['23', '    1', 'Mehidy Hasan', 'BANGLADESH', '610'], ['24', '    2', 'Shakib Al Hasan', 'BANGLADESH', '605'], ['25', '    2', 'Taijul Islam', 'BANGLADESH', '605'], ['26', '    3', 'Chris Woakes', 'ENGLAND', '602'], ['27', '    2', 'Shannon Gabriel', 'WEST INDIES', '600'], ['28', '    –', 'Keshav Maharaj', 'SOUTH AFRICA', '593'], ['29', '    1', 'Umesh Yadav', 'INDIA', '579'], ['30', '    1', 'Yasir Shah', 'PAKISTAN', '573'], ['31', '    –', 'Anrich Nortje', 'SOUTH AFRICA', '564'], ['32', '    3', 'Rashid Khan', 'AFGHANISTAN', '543'], ['33', '    1', 'Jack Leach', 'ENGLAND', '543'], ['34', '    –', 'Axar Patel', 'INDIA', '536'], ['35', '    2', 'Ben Stokes', 'ENGLAND', '536'], ['36', '    –', 'Moeen Ali', 'ENGLAND', '495'], ['37', '    5', 'Mark Wood', 'ENGLAND', '477'], ['38', '    14', 'Mohammed Siraj', 'INDIA', '465'], ['39', '    2', 'Dilruwan Perera', 'SRI LANKA', '459'], ['40', '    2', 'Lahiru Kumara', 'SRI LANKA', '459'], ['41', '    2', 'Lasith Embuldeniya', 'SRI LANKA', '444'], ['42', '    2', 'Lungi Ngidi', 'SOUTH AFRICA', '436'], ['43', '    –', 'Colin de Grandhomme', 'NEW ZEALAND', '424'], ['44', '    3', 'Roston Chase', 'WEST INDIES', '423'], ['46', '    1', 'Blessing Muzarabani', 'ZIMBABWE', '391'], ['47', '    2', 'Vishwa Fernando', 'SRI LANKA', '388'], ['48', '    2', 'Nauman Ali', 'PAKISTAN', '387'], ['49', '    4', 'Jofra Archer', 'ENGLAND', '383'], ['50', '    2', 'Dominic Bess', 'ENGLAND', '381'], ['51', '    –', 'Praveen Jayawickrama', 'SRI LANKA', '380'], ['52', '    1', 'Kyle Mayers', 'WEST INDIES', '374'], ['53', '    1', 'Nayeem Hasan', 'BANGLADESH', '366'], ['54', '    1', 'Amir Hamza', 'AFGHANISTAN', '364'], ['55', '    25', 'Shardul Thakur', 'INDIA', '357'], ['56', '    6', 'Sam Curran', 'ENGLAND', '350'], ['57', '    1', 'Kuldeep Yadav', 'INDIA', '348'], ['59', '    1', 'Wiaan Mulder', 'SOUTH AFRICA', '333'], ['60', '    3', 'Rahkeem Cornwall', 'WEST INDIES', '331'], ['61', '    1', 'Jubair Hossain', 'BANGLADESH', '326'], ['62', '    1', 'Abu Jayed', 'BANGLADESH', '323'], ['63', '    1', 'Ajaz Patel', 'NEW ZEALAND', '320'], ['64', '    1', 'Sikandar Raza', 'ZIMBABWE', '315'], ['65', '    1', 'Matt Henry', 'NEW ZEALAND', '304'], ['66', '    1', 'Alzarri Joseph', 'WEST INDIES', '299'], ['67', '    2', 'Olly Stone', 'ENGLAND', '289'], ['68', '    3', 'Kasun Rajitha', 'SRI LANKA', '288'], ['69', '    1', 'Jomel Warrican', 'WEST INDIES', '281'], ['70', '    2', 'Mustafizur Rahman', 'BANGLADESH', '276'], ['71', '    10', 'Faheem Ashraf', 'PAKISTAN', '271'], ['72', '    3', 'Yamin Ahmadzai', 'AFGHANISTAN', '260'], ['73', '    3', 'Dushmantha Chameera', 'SRI LANKA', '248'], ['74', '    3', 'Donald Tiripano', 'ZIMBABWE', '248'], ['75', '    3', 'Victor Nyauchi', 'ZIMBABWE', '247'], ['76', '    3', 'Naseem Shah', 'PAKISTAN', '244'], ['77', '    5', 'Mitchell Santner', 'NEW ZEALAND', '237'], ['78', '    5', 'Haris Sohail', 'PAKISTAN', '225'], ['79', '    6', 'George Linde', 'SOUTH AFRICA', '222'], ['80', '    8', 'Dasun Shanaka', 'SRI LANKA', '210'], ['81', '    8', 'Taskin Ahmed', 'BANGLADESH', '206'], ['82', '    8', 'Mahmudullah', 'BANGLADESH', '205'], ['83', '    3', 'Joe Root', 'ENGLAND', '202'], ['84', '    7', 'Ramesh Mendis', 'SRI LANKA', '197'], ['85', '    7', 'Shadab Khan', 'PAKISTAN', '185'], ['86', '    7', 'Sean Williams', 'ZIMBABWE', '181'], ['87', '    8', 'Shahbaz Nadeem', 'INDIA', '168'], ['88', '    8', 'Dhananjaya de Silva', 'SRI LANKA', '161'], ['89', '    10', 'Kraigg Brathwaite', 'WEST INDIES', '133'], ['90', '    10', 'Ryan Burl', 'ZIMBABWE', '132'], ['91', '    –', 'Zahir Khan', 'AFGHANISTAN', '128'], ['92', '    –', 'Angelo Mathews', 'SRI LANKA', '123'], ['93', '    –', 'Rubel Hossain', 'BANGLADESH', '122'], ['94', '    –', 'Marnus Labuschagne', 'AUSTRALIA', '122'], ['95', '    –', 'Kane Williamson', 'NEW ZEALAND', '116'], ['96', '    –', 'Washington Sundar', 'INDIA', '107'], ['97', '    –', 'Dean Elgar', 'SOUTH AFRICA', '102'], ['98', '    –', 'Tendai Chisoro', 'ZIMBABWE', '88'], ['99', '    –', 'Navdeep Saini', 'INDIA', '86'], [''], [''], [''], [''], [''], [''], [''], [''], [''], [''], [''], [''], [''], [''], [''], [''], [''], [''], [''], [''], [''], [''], [''], [''], [''], [''], [''], [''], [''], [''], [''], [''], [''], [''], [''], [''], [''], [''], [''], [''], [''], [''], [''], [''], [''], [''], [''], [''], [''], [''], [''], [''], [''], [''], [''], [''], [''], [''], [''], [''], [''], [''], [''], [''], [''], [''], [''], [''], [''], [''], [''], [''], [''], [''], [''], [''], [''], [''], [''], [''], [''], [''], [''], [''], [''], [''], [''], [''], [''], [''], [''], [''], [''], [''], [''], [''], [''], [''], [''], [''], [''], [''], [''], [''], [''], [''], [''], [''], [''], [''], [''], [''], [''], [''], [''], [''], [''], [''], [''], [''], [''], [''], [''], [''], [''], [''], [''], [''], [''], [''], [''], [''], [''], [''], [''], [''], [''], [''], [''], [''], [''], [''], [''], [''], [''], [''], [''], [''], [''], [''], [''], [''], [''], [''], [''], [''], [''], [''], [''], [''], [''], [''], [''], [''], [''], [''], [''], [''], [''], [''], [''], [''], [''], [''], [''], [''], [''], [''], [''], [''], [''], [''], [''], [''], [''], [''], [''], [''], [''], [''], [''], ['']] [['1', '    –', 'Trent Boult', 'NEW ZEALAND', '737'], ['2', '    5', 'Josh Hazlewood', 'AUSTRALIA', '709'], ['3', '    1', 'Mujeeb Ur Rahman', 'AFGHANISTAN', '708'], ['4', '    1', 'Chris Woakes', 'ENGLAND', '700'], ['5', '    1', 'Mehidy Hasan', 'BANGLADESH', '692'], ['6', '    1', 'Matt Henry', 'NEW ZEALAND', '691'], ['7', '    1', 'Jasprit Bumrah', 'INDIA', '679'], ['8', '    10', 'Mitchell Starc', 'AUSTRALIA', '652'], ['9', '    1', 'Shakib Al Hasan', 'BANGLADESH', '650'], ['10', '    1', 'Kagiso Rabada', 'SOUTH AFRICA', '648'], ['11', '    –', 'Mustafizur Rahman', 'BANGLADESH', '640'], ['12', '    2', 'Pat Cummins', 'AUSTRALIA', '636'], ['13', '    1', 'Shaheen Afridi', 'PAKISTAN', '630'], ['14', '    1', 'Mohammad Amir', 'PAKISTAN', '628'], ['15', '    1', 'Rashid Khan', 'AFGHANISTAN', '626'], ['16', '    –', 'Adam Zampa', 'AUSTRALIA', '625'], ['17', '    2', 'Bhuvneshwar Kumar', 'INDIA', '621'], ['18', '    1', 'Lockie Ferguson', 'NEW ZEALAND', '619'], ['19', '    –', 'Jofra Archer', 'ENGLAND', '609'], ['20', '    5', 'Akila Dananjaya', 'SRI LANKA', '604'], ['21', '    1', 'Yuzvendra Chahal', 'INDIA', '603'], ['22', '    1', 'Lungi Ngidi', 'SOUTH AFRICA', '599'], ['23', '    1', 'Mohammad Nabi', 'AFGHANISTAN', '596'], ['24', '    1', 'Mark Wood', 'ENGLAND', '594'], ['25', '    2', 'Alzarri Joseph', 'WEST INDIES', '592'], ['26', '    2', 'Mitchell Santner', 'NEW ZEALAND', '583'], ['27', '    1', 'Mohammed Shami', 'INDIA', '566'], ['28', '    –', 'Kuldeep Yadav', 'INDIA', '562'], ['29', '    1', 'Ravindra Jadeja', 'INDIA', '550'], ['30', '    1', 'Sheldon Cottrell', 'WEST INDIES', '541'], ['31', '    –', 'Ahmed Raza', 'UNITED ARAB EMIRATES', '531'], ['32', '    1', 'Andy McBrine', 'IRELAND', '527'], ['33', '    1', 'Shadab Khan', 'PAKISTAN', '517'], ['34', '    1', 'Dushmantha Chameera', 'SRI LANKA', '514'], ['35', '    1', 'Wanindu Hasaranga', 'SRI LANKA', '508'], ['36', '    2', 'Colin de Grandhomme', 'NEW ZEALAND', '508'], ['37', '    2', 'Tabraiz Shamsi', 'SOUTH AFRICA', '501'], ['38', '    2', 'David Willey', 'ENGLAND', '501'], ['39', '    2', 'Tim Southee', 'NEW ZEALAND', '500'], ['40', '    2', 'Andile Phehlukwayo', 'SOUTH AFRICA', '497'], ['41', '    2', 'Adil Rashid', 'ENGLAND', '497'], ['42', '    2', 'Ish Sodhi', 'NEW ZEALAND', '496'], ['43', '    2', 'Mark Watt', 'SCOTLAND', '490'], ['44', '    3', 'Imad Wasim', 'PAKISTAN', '488'], ['45', '    3', 'Hasan Ali', 'PAKISTAN', '483'], ['46', '    3', 'Usman Shinwari', 'PAKISTAN', '482'], ['47', '    1', 'Jhye Richardson', 'AUSTRALIA', '480'], ['48', '    2', 'Rohan Mustafa', 'UNITED ARAB EMIRATES', '477'], ['49', '    2', 'Simi Singh', 'IRELAND', '473'], ['50', '    3', 'Mashrafe Mortaza', 'BANGLADESH', '469'], ['51', '    3', 'Mohammad Saifuddin', 'BANGLADESH', '468'], ['52', '    3', 'Safyaan Sharif', 'SCOTLAND', '467'], ['53', '    3', 'Tendai Chatara', 'ZIMBABWE', '465'], ['54', '    4', 'Nuwan Pradeep', 'SRI LANKA', '459'], ['55', '    5', 'James Neesham', 'NEW ZEALAND', '458'], ['57', '    –', 'Jason Holder', 'WEST INDIES', '451'], ['58', '    6', 'Moeen Ali', 'ENGLAND', '449'], ['59', '    6', 'Wahab Riaz', 'PAKISTAN', '447'], ['60', '    6', 'Faheem Ashraf', 'PAKISTAN', '445'], ['62', '    5', 'Suranga Lakmal', 'SRI LANKA', '443'], ['63', '    6', 'Sikandar Raza', 'ZIMBABWE', '440'], ['64', '    6', 'Blessing Muzarabani', 'ZIMBABWE', '437'], ['65', '    6', 'Tom Curran', 'ENGLAND', '436'], ['66', '    32', 'Ashton Agar', 'AUSTRALIA', '436'], ['67', '    5', 'Taskin Ahmed', 'BANGLADESH', '434'], ['68', '    5', 'Anrich Nortje', 'SOUTH AFRICA', '431'], ['69', '    7', 'Josh Davey', 'SCOTLAND', '427'], ['71', '    9', 'Craig Young', 'IRELAND', '421'], ['72', '    9', 'Sean Williams', 'ZIMBABWE', '420'], ['73', '    4', 'Kane Richardson', 'AUSTRALIA', '416'], ['74', '    10', 'Ben Stokes', 'ENGLAND', '410'], ['75', '    10', 'Shardul Thakur', 'INDIA', '405'], ['76', '    11', 'Rubel Hossain', 'BANGLADESH', '400'], ['77', '    12', 'Gulbadin Naib', 'AFGHANISTAN', '399'], ['78', '    8', 'Hardik Pandya', 'INDIA', '394'], ['79', '    12', 'Alasdair Evans', 'SCOTLAND', '394'], ['80', '    12', 'Keshav Maharaj', 'SOUTH AFRICA', '394'], ['81', '    12', 'Barry McCarthy', 'IRELAND', '391'], ['82', '    8', 'Mitchell Marsh', 'AUSTRALIA', '390'], ['83', '    5', 'Dhananjaya de Silva', 'SRI LANKA', '388'], ['84', '    12', 'Marcus Stoinis', 'AUSTRALIA', '377'], ['85', '    12', 'Lakshan Sandakan', 'SRI LANKA', '376'], ['86', '    13', 'Taijul Islam', 'BANGLADESH', '374'], ['87', '    13', 'Mohammad Nawaz', 'PAKISTAN', '370'], ['88', '    –', 'Donald Tiripano', 'ZIMBABWE', '367'], ['89', '    –', 'Assad Vala', 'PAPUA NEW GUINEA', '361'], ['90', '    –', 'Fred Klaassen', 'NETHERLANDS', '358'], ['91', '    –', 'George Dockrell', 'IRELAND', '357'], ['92', '    –', 'Oshane Thomas', 'WEST INDIES', '355'], ['93', '    –', 'Kyle Jamieson', 'NEW ZEALAND', '352'], ['94', '    –', 'Michael Leask', 'SCOTLAND', '351'], ['95', '    –', 'Zeeshan Maqsood', 'OMAN', '350'], ['96', '    –', 'Sharafuddin Ashraf', 'AFGHANISTAN', '347'], ['97', '    –', 'Roston Chase', 'WEST INDIES', '347'], ['98', '    –', 'Bilal Khan', 'OMAN', '344'], ['99', '    –', 'Saurabh Netravalkar', 'UNITED STATES', '343'], ['100', '    –', 'Norman Vanua', 'PAPUA NEW GUINEA', '342']] "
     ]
    },
    {
     "name": "stdout",
     "output_type": "stream",
     "text": [
      "[['1', '    –', 'Tabraiz Shamsi', 'SOUTH AFRICA', '792'], ['2', '    1', 'Wanindu Hasaranga', 'SRI LANKA', '764'], ['3', '    1', 'Rashid Khan', 'AFGHANISTAN', '719'], ['4', '    –', 'Adil Rashid', 'ENGLAND', '689'], ['5', '    –', 'Mujeeb Ur Rahman', 'AFGHANISTAN', '687'], ['6', '    –', 'Tim Southee', 'NEW ZEALAND', '669'], ['7', '    1', 'Ashton Agar', 'AUSTRALIA', '649'], ['8', '    1', 'Adam Zampa', 'AUSTRALIA', '648'], ['9', '    –', 'Ish Sodhi', 'NEW ZEALAND', '640'], ['10', '    30', 'Mustafizur Rahman', 'BANGLADESH', '619'], ['11', '    –', 'Mitchell Santner', 'NEW ZEALAND', '616'], ['12', '    10', 'Shakib Al Hasan', 'BANGLADESH', '610'], ['13', '    2', 'Mark Watt', 'SCOTLAND', '595'], ['14', '    6', 'Bhuvneshwar Kumar', 'INDIA', '594'], ['15', '    2', 'Chris Jordan', 'ENGLAND', '579'], ['16', '    4', 'Lakshan Sandakan', 'SRI LANKA', '574'], ['17', '    7', 'Fabian Allen', 'WEST INDIES', '572'], ['18', '    –', 'Mark Wood', 'ENGLAND', '563'], ['19', '    5', 'Washington Sundar', 'INDIA', '562'], ['20', '    22', 'Dushmantha Chameera', 'SRI LANKA', '555'], ['21', '    –', 'Mohammad Nabi', 'AFGHANISTAN', '546'], ['22', '    6', 'Sheldon Cottrell', 'WEST INDIES', '546'], ['23', '    10', 'Shaheen Afridi', 'PAKISTAN', '543'], ['24', '    7', 'Yuzvendra Chahal', 'INDIA', '529'], ['25', '    1', 'Alasdair Evans', 'SCOTLAND', '529'], ['26', '    1', 'Karim Janat', 'AFGHANISTAN', '527'], ['27', '    8', 'George Linde', 'SOUTH AFRICA', '524'], ['28', '    41', 'Blessing Muzarabani', 'ZIMBABWE', '522'], ['29', '    –', 'Bilal Khan', 'OMAN', '521'], ['30', '    2', 'Lockie Ferguson', 'NEW ZEALAND', '515'], ['31', '    8', 'Shardul Thakur', 'INDIA', '508'], ['33', '    8', 'Jasprit Bumrah', 'INDIA', '504'], ['34', '    –', 'Josh Hazlewood', 'AUSTRALIA', '502'], ['35', '    16', 'Kane Richardson', 'AUSTRALIA', '501'], ['36', '    19', 'Akila Dananjaya', 'SRI LANKA', '501'], ['37', '    13', 'Faheem Ashraf', 'PAKISTAN', '498'], ['38', '    1', 'Deepak Chahar', 'INDIA', '497'], ['39', '    1', 'Jofra Archer', 'ENGLAND', '495'], ['40', '    4', 'Mark Adair', 'IRELAND', '495'], ['41', '    2', 'Lungi Ngidi', 'SOUTH AFRICA', '487'], ['42', '    14', 'Imad Wasim', 'PAKISTAN', '484'], ['43', '    41', 'Mohammad Saifuddin', 'BANGLADESH', '479'], ['44', '    7', 'Shadab Khan', 'PAKISTAN', '478'], ['45', '    3', 'Trent Boult', 'NEW ZEALAND', '473'], ['46', '    13', 'Mitchell Starc', 'AUSTRALIA', '472'], ['47', '    2', 'Tom Curran', 'ENGLAND', '468'], ['48', '    2', 'David Willey', 'ENGLAND', '468'], ['49', '    19', 'Haris Rauf', 'PAKISTAN', '467'], ['50', '    4', 'Dwayne Bravo', 'WEST INDIES', '467'], ['51', '    –', 'Safyaan Sharif', 'SCOTLAND', '466'], ['52', '    –', 'Ahmed Raza', 'UNITED ARAB EMIRATES', '463'], ['53', '    –', 'Roelof van der Merwe', 'NETHERLANDS', '463'], ['54', '    –', 'Sam Curran', 'ENGLAND', '462'], ['55', '    15', 'Jason Holder', 'WEST INDIES', '456'], ['56', '    1', 'Paul van Meekeren', 'NETHERLANDS', '454'], ['57', '    18', 'Beuran Hendricks', 'SOUTH AFRICA', '453'], ['58', '    –', 'Bernard Scholtz', 'NAMIBIA', '452'], ['59', '    15', 'Lasith Malinga', 'SRI LANKA', '450'], ['60', '    1', 'Brandon Glover', 'NETHERLANDS', '449'], ['61', '    5', 'Andile Phehlukwayo', 'SOUTH AFRICA', '449'], ['62', '    21', 'Mohammad Hasnain', 'PAKISTAN', '446'], ['63', '    1', 'Hasan Ali', 'PAKISTAN', '446'], ['64', '    3', 'Shem Obado', 'KENYA', '444'], ['65', '    2', 'Khawar Ali', 'OMAN', '442'], ['67', '    22', 'Mohammad Nawaz', 'PAKISTAN', '440'], ['68', '    3', 'Norman Vanua', 'PAPUA NEW GUINEA', '437'], ['70', '    3', 'Pieter Seelaar', 'NETHERLANDS', '436'], ['71', '    6', 'Andrew Tye', 'AUSTRALIA', '428'], ['72', '    1', 'Mohammad Nadeem', 'OMAN', '420'], ['73', '    17', 'Simi Singh', 'IRELAND', '414'], ['74', '    2', 'Rohan Mustafa', 'UNITED ARAB EMIRATES', '412'], ['75', '    –', 'Wellington Masakadza', 'ZIMBABWE', '410'], ['77', '    2', 'Sandeep Lamichhane', 'NEPAL', '405'], ['78', '    2', 'Sultan Ahmed', 'UNITED ARAB EMIRATES', '405'], ['79', '    8', 'Kagiso Rabada', 'SOUTH AFRICA', '404'], ['80', '    20', 'Pat Cummins', 'AUSTRALIA', '403'], ['81', '    1', 'Josh Davey', 'SCOTLAND', '403'], ['82', '    8', 'Kuldeep Yadav', 'INDIA', '399'], ['83', '    –', 'Hardik Pandya', 'INDIA', '393'], ['84', '    4', 'Krunal Pandya', 'INDIA', '390'], ['85', '    7', 'Gareth Delany', 'IRELAND', '389'], ['86', '    1', 'Timm van der Gugten', 'NETHERLANDS', '389'], ['87', '    6', 'Isuru Udana', 'SRI LANKA', '389'], ['88', '    2', 'Zahoor Khan', 'UNITED ARAB EMIRATES', '386'], ['89', '    –', 'Fred Klaassen', 'NETHERLANDS', '383'], ['90', '    1', 'Charles Amini', 'PAPUA NEW GUINEA', '381'], ['91', '    19', 'Billy Stanlake', 'AUSTRALIA', '379'], ['93', '    1', 'Naveen-ul-Haq', 'AFGHANISTAN', '378'], ['94', '    32', 'Al-Amin Hossain', 'BANGLADESH', '378'], ['95', '    1', 'Hamza Tahir', 'SCOTLAND', '373'], ['96', '    28', 'Usman Qadir', 'PAKISTAN', '371'], ['97', '    2', 'Ehsan Khan', 'HONG KONG', '371'], ['98', '    11', 'Anrich Nortje', 'SOUTH AFRICA', '370'], ['99', '    3', 'Nosaina Pokana', 'PAPUA NEW GUINEA', '367'], ['100', '    1', 'Ben Stokes', 'ENGLAND', '362']] "
     ]
    }
   ],
   "source": [
    "driver = webdriver.Chrome(executable_path=driverpath)\n",
    "driver.get(\"https://www.cricbuzz.com/cricket-stats/icc-rankings/men/bowling\")\n",
    "\n",
    "driver.find_element_by_xpath(\"//a[@id='bowlers-tests-tab']\").click()\n",
    "a=driver.find_elements_by_xpath(\"//a[@id='bowlers-tests-tab']//following::div[contains(@class,'cb-col cb-col-100 cb-font-14 cb-lst-itm text-center')]\")\n",
    "l=[]\n",
    "for i in a:\n",
    "    l.append(i.text.split(\"\\n\"))\n",
    "print(l,end=\" \")\n",
    "driver.find_element_by_xpath(\"//a[@id='bowlers-odis-tab']\").click()\n",
    "c=driver.find_elements_by_xpath(\"//a[@id='bowlers-odis-tab']//following::div[contains(@class,'cb-col cb-col-100 cb-font-14 cb-lst-itm text-center')]\")\n",
    "l1=[]\n",
    "for j in c:\n",
    "    if j.text!='':\n",
    "        l1.append(j.text.split(\"\\n\"))\n",
    "print(l1,end=\" \")\n",
    "driver.find_element_by_xpath(\"//a[@id='bowlers-t20s-tab']\").click()\n",
    "d=driver.find_elements_by_xpath(\"//a[@id='bowlers-t20s-tab']//following::div[contains(@class,'cb-col cb-col-100 cb-font-14 cb-lst-itm text-center')]\")\n",
    "\n",
    "l2=[]\n",
    "for k in d:\n",
    "    if k.text!='':\n",
    "        l2.append(k.text.split(\"\\n\"))\n",
    "print(l2,end=\" \")\n",
    "\n"
   ]
  },
  {
   "cell_type": "code",
   "execution_count": 13,
   "id": "06df52a6",
   "metadata": {},
   "outputs": [
    {
     "name": "stdout",
     "output_type": "stream",
     "text": [
      "    Position    NAN               Player       Country  Rating\n",
      "0          1      –          Pat Cummins     AUSTRALIA     908\n",
      "1          2      –  Ravichandran Ashwin         INDIA     848\n",
      "2          3      –          Tim Southee   NEW ZEALAND     824\n",
      "3          4      –       Josh Hazlewood     AUSTRALIA     816\n",
      "4          5      –          Neil Wagner   NEW ZEALAND     810\n",
      "..       ...    ...                  ...           ...     ...\n",
      "92        95      –      Kane Williamson   NEW ZEALAND     116\n",
      "93        96      –    Washington Sundar         INDIA     107\n",
      "94        97      –           Dean Elgar  SOUTH AFRICA     102\n",
      "95        98      –       Tendai Chisoro      ZIMBABWE      88\n",
      "96        99      –        Navdeep Saini         INDIA      86\n",
      "\n",
      "[97 rows x 5 columns]\n"
     ]
    }
   ],
   "source": [
    "writer = pd.ExcelWriter('bowling.xlsx', engine='xlsxwriter')\n",
    "df = pd.DataFrame(l, columns = [\"Position\",\"NAN\",\"Player\",\"Country\",\"Rating\"])\n",
    "df1 = pd.DataFrame(l1, columns = [\"Position\",\"NAN\",\"Player\",\"Country\",\"Rating\"])\n",
    "df2 = pd.DataFrame(l2, columns = [\"Position\",\"NAN\",\"Player\",\"Country\",\"Rating\"])\n",
    "\n",
    "time.sleep(2)\n",
    "\n",
    "writer.save()\n",
    "\n",
    "writer = pd.ExcelWriter('bowling.xlsx', engine='xlsxwriter')\n",
    "\n",
    "df.to_excel(writer, sheet_name='bowling-TEST', index=False)\n",
    "df1.to_excel(writer,sheet_name='bowling-ODI', index=False)\n",
    "df2.to_excel(writer,sheet_name='bowling-T20', index=False)\n",
    "\n",
    "writer.save()\n",
    "reader = pd.read_excel(r'bowling.xlsx')\n",
    "print(reader)\n",
    "df.to_excel(writer,index=False,header=False)\n",
    "df1.to_excel(writer,index=False,header=False)\n",
    "df2.to_excel(writer,index=False,header=False)\n",
    "\n"
   ]
  },
  {
   "cell_type": "code",
   "execution_count": null,
   "id": "dfcd24e4",
   "metadata": {},
   "outputs": [],
   "source": []
  }
 ],
 "metadata": {
  "kernelspec": {
   "display_name": "Python 3",
   "language": "python",
   "name": "python3"
  },
  "language_info": {
   "codemirror_mode": {
    "name": "ipython",
    "version": 3
   },
   "file_extension": ".py",
   "mimetype": "text/x-python",
   "name": "python",
   "nbconvert_exporter": "python",
   "pygments_lexer": "ipython3",
   "version": "3.8.8"
  }
 },
 "nbformat": 4,
 "nbformat_minor": 5
}
