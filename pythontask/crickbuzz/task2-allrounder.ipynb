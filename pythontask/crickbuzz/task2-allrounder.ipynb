{
 "cells": [
  {
   "cell_type": "code",
   "execution_count": 3,
   "id": "e94a8a87",
   "metadata": {},
   "outputs": [],
   "source": [
    "import selenium\n",
    "from selenium import webdriver \n",
    "from selenium.webdriver.support.ui import Select\n",
    "import time\n",
    "import pandas as pd\n",
    "import os\n"
   ]
  },
  {
   "cell_type": "code",
   "execution_count": 4,
   "id": "40534eb0",
   "metadata": {},
   "outputs": [],
   "source": [
    "os.chdir(r\"C:\\Users\\Merit\\Desktop\\pythontask\")\n",
    "driverpath=r\"C:\\Users\\Merit\\Downloads\\chromedriver_win32\\chromedriver.exe\""
   ]
  },
  {
   "cell_type": "code",
   "execution_count": 9,
   "id": "3e55faeb",
   "metadata": {},
   "outputs": [
    {
     "name": "stdout",
     "output_type": "stream",
     "text": [
      "[['1', '    –', 'Jason Holder', 'WEST INDIES', '414'], ['2', '    –', 'Ben Stokes', 'ENGLAND', '362'], ['3', '    –', 'Ravindra Jadeja', 'INDIA', '359'], ['4', '    –', 'Ravichandran Ashwin', 'INDIA', '345'], ['5', '    –', 'Shakib Al Hasan', 'BANGLADESH', '334'], ['6', '    –', 'Kyle Jamieson', 'NEW ZEALAND', '311'], ['7', '    –', 'Mitchell Starc', 'AUSTRALIA', '275'], ['8', '    –', 'Pat Cummins', 'AUSTRALIA', '249'], ['9', '    –', 'Colin de Grandhomme', 'NEW ZEALAND', '232'], ['10', '    –', 'Chris Woakes', 'ENGLAND', '219'], [''], [''], [''], [''], [''], [''], [''], [''], [''], [''], [''], [''], [''], [''], [''], [''], [''], [''], [''], ['']] [['1', '    –', 'Shakib Al Hasan', 'BANGLADESH', '416'], ['2', '    –', 'Mohammad Nabi', 'AFGHANISTAN', '294'], ['3', '    –', 'Chris Woakes', 'ENGLAND', '282'], ['4', '    –', 'Rashid Khan', 'AFGHANISTAN', '270'], ['5', '    –', 'Mitchell Santner', 'NEW ZEALAND', '268'], ['6', '    –', 'Ben Stokes', 'ENGLAND', '266'], ['7', '    –', 'Colin de Grandhomme', 'NEW ZEALAND', '257'], ['8', '    –', 'Imad Wasim', 'PAKISTAN', '256'], ['9', '    –', 'Ravindra Jadeja', 'INDIA', '238'], ['10', '    –', 'Sikandar Raza', 'ZIMBABWE', '237']] [['1', '    1', 'Shakib Al Hasan', 'BANGLADESH', '286'], ['2', '    1', 'Mohammad Nabi', 'AFGHANISTAN', '285'], ['3', '    –', 'Richie Berrington', 'SCOTLAND', '194'], ['4', '    2', 'Khawar Ali', 'OMAN', '159'], ['5', '    3', 'Collins Obuya', 'KENYA', '153'], ['6', '    3', 'Rohan Mustafa', 'UNITED ARAB EMIRATES', '152'], ['7', '    3', 'Glenn Maxwell', 'AUSTRALIA', '151'], ['8', '    3', 'Gareth Delany', 'IRELAND', '150'], ['9', '    1', 'Mitchell Marsh', 'AUSTRALIA', '141'], ['10', '    3', 'Sean Williams', 'ZIMBABWE', '140']] "
     ]
    }
   ],
   "source": [
    "driver = webdriver.Chrome(executable_path=driverpath)\n",
    "driver.get(\"https://www.cricbuzz.com/cricket-stats/icc-rankings/men/all-rounder\")\n",
    "\n",
    "driver.find_element_by_xpath(\"//a[@id='allrounders-tests-tab']\").click()\n",
    "a=driver.find_elements_by_xpath(\"//a[@id='allrounders-tests-tab']//following::div[contains(@class,'cb-col cb-col-100 cb-font-14 cb-lst-itm text-center')]\")\n",
    "l=[]\n",
    "for i in a:\n",
    "    l.append(i.text.split(\"\\n\"))\n",
    "print(l,end=\" \")\n",
    "driver.find_element_by_xpath(\"//a[@id='allrounders-odis-tab']\").click()\n",
    "c=driver.find_elements_by_xpath(\"//a[@id='allrounders-odis-tab']//following::div[contains(@class,'cb-col cb-col-100 cb-font-14 cb-lst-itm text-center')]\")\n",
    "l1=[]\n",
    "for j in c:\n",
    "    if j.text!='':\n",
    "        l1.append(j.text.split(\"\\n\"))\n",
    "print(l1,end=\" \")\n",
    "driver.find_element_by_xpath(\"//a[@id='allrounders-t20s-tab']\").click()\n",
    "d=driver.find_elements_by_xpath(\"//a[@id='allrounders-t20s-tab']//following::div[contains(@class,'cb-col cb-col-100 cb-font-14 cb-lst-itm text-center')]\")\n",
    "\n",
    "l2=[]\n",
    "for k in d:\n",
    "    if k.text!='':\n",
    "        l2.append(k.text.split(\"\\n\"))\n",
    "print(l2,end=\" \")\n",
    "\n"
   ]
  },
  {
   "cell_type": "code",
   "execution_count": 10,
   "id": "d7e84061",
   "metadata": {},
   "outputs": [
    {
     "name": "stdout",
     "output_type": "stream",
     "text": [
      "   Position    NAN               Player      Country  Rating\n",
      "0         1      –         Jason Holder  WEST INDIES     414\n",
      "1         2      –           Ben Stokes      ENGLAND     362\n",
      "2         3      –      Ravindra Jadeja        INDIA     359\n",
      "3         4      –  Ravichandran Ashwin        INDIA     345\n",
      "4         5      –      Shakib Al Hasan   BANGLADESH     334\n",
      "5         6      –        Kyle Jamieson  NEW ZEALAND     311\n",
      "6         7      –       Mitchell Starc    AUSTRALIA     275\n",
      "7         8      –          Pat Cummins    AUSTRALIA     249\n",
      "8         9      –  Colin de Grandhomme  NEW ZEALAND     232\n",
      "9        10      –         Chris Woakes      ENGLAND     219\n"
     ]
    }
   ],
   "source": [
    "writer = pd.ExcelWriter('allrounder.xlsx', engine='xlsxwriter')\n",
    "df = pd.DataFrame(l, columns = [\"Position\",\"NAN\",\"Player\",\"Country\",\"Rating\"])\n",
    "df1 = pd.DataFrame(l1, columns = [\"Position\",\"NAN\",\"Player\",\"Country\",\"Rating\"])\n",
    "df2 = pd.DataFrame(l2, columns = [\"Position\",\"NAN\",\"Player\",\"Country\",\"Rating\"])\n",
    "\n",
    "time.sleep(2)\n",
    "\n",
    "writer.save()\n",
    "\n",
    "writer = pd.ExcelWriter('allrounder.xlsx', engine='xlsxwriter')\n",
    "\n",
    "df.to_excel(writer, sheet_name='allrounder-TEST', index=False)\n",
    "df1.to_excel(writer,sheet_name='allrounder-ODI', index=False)\n",
    "df2.to_excel(writer,sheet_name='allrounder-T20', index=False)\n",
    "\n",
    "writer.save()\n",
    "reader = pd.read_excel(r'allrounder.xlsx')\n",
    "print(reader)\n",
    "df.to_excel(writer,index=False,header=False)\n",
    "df1.to_excel(writer,index=False,header=False)\n",
    "df2.to_excel(writer,index=False,header=False)\n",
    "\n"
   ]
  },
  {
   "cell_type": "code",
   "execution_count": null,
   "id": "fa69a92a",
   "metadata": {},
   "outputs": [],
   "source": []
  }
 ],
 "metadata": {
  "kernelspec": {
   "display_name": "Python 3",
   "language": "python",
   "name": "python3"
  },
  "language_info": {
   "codemirror_mode": {
    "name": "ipython",
    "version": 3
   },
   "file_extension": ".py",
   "mimetype": "text/x-python",
   "name": "python",
   "nbconvert_exporter": "python",
   "pygments_lexer": "ipython3",
   "version": "3.8.8"
  }
 },
 "nbformat": 4,
 "nbformat_minor": 5
}
