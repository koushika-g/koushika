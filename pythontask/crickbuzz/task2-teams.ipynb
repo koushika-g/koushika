{
 "cells": [
  {
   "cell_type": "code",
   "execution_count": 3,
   "id": "b770dc65",
   "metadata": {},
   "outputs": [],
   "source": [
    "import selenium\n",
    "from selenium import webdriver \n",
    "from selenium.webdriver.support.ui import Select\n",
    "import time\n",
    "import pandas as pd\n",
    "import os"
   ]
  },
  {
   "cell_type": "code",
   "execution_count": 4,
   "id": "24257eec",
   "metadata": {},
   "outputs": [],
   "source": [
    "os.chdir(r\"C:\\Users\\Merit\\Desktop\\pythontask\")\n",
    "driverpath=r\"C:\\Users\\Merit\\Downloads\\chromedriver_win32\\chromedriver.exe\""
   ]
  },
  {
   "cell_type": "code",
   "execution_count": 5,
   "id": "dc08a20a",
   "metadata": {},
   "outputs": [
    {
     "name": "stdout",
     "output_type": "stream",
     "text": [
      "[['1', 'NEW ZEALAND', '126', '2764'], ['2', 'INDIA', '119', '2987'], ['3', 'AUSTRALIA', '108', '1844'], ['4', 'ENGLAND', '107', '3753'], ['5', 'PAKISTAN', '94', '2247'], ['6', 'SOUTH AFRICA', '88', '1675'], ['7', 'WEST INDIES', '78', '2114'], ['8', 'SRI LANKA', '78', '2095'], ['9', 'BANGLADESH', '49', '779'], ['10', 'ZIMBABWE', '31', '342'], [''], [''], [''], [''], [''], [''], [''], [''], [''], [''], [''], [''], [''], [''], [''], [''], [''], [''], [''], [''], [''], [''], [''], [''], [''], [''], [''], [''], [''], [''], [''], [''], [''], [''], [''], [''], [''], [''], [''], [''], [''], [''], [''], [''], [''], [''], [''], [''], [''], [''], [''], [''], [''], [''], [''], [''], [''], [''], [''], [''], [''], [''], [''], [''], [''], [''], [''], [''], [''], [''], [''], [''], [''], [''], [''], [''], [''], [''], [''], [''], [''], [''], [''], [''], [''], [''], [''], [''], [''], [''], [''], [''], [''], [''], ['']] [['1', 'NEW ZEALAND', '121', '2054'], ['2', 'ENGLAND', '119', '3793'], ['3', 'AUSTRALIA', '116', '3244'], ['4', 'INDIA', '113', '3624'], ['5', 'SOUTH AFRICA', '103', '2267'], ['6', 'PAKISTAN', '93', '2524'], ['7', 'BANGLADESH', '91', '2639'], ['8', 'WEST INDIES', '84', '2523'], ['9', 'SRI LANKA', '79', '2303'], ['10', 'AFGHANISTAN', '62', '1054'], ['11', 'NETHERLANDS', '48', '336'], ['12', 'IRELAND', '46', '1067'], ['13', 'ZIMBABWE', '38', '646'], ['14', 'SCOTLAND', '37', '258'], ['15', 'OMAN', '34', '240'], ['16', 'NEPAL', '24', '119'], ['17', 'UAE', '21', '190'], ['18', 'NAMIBIA', '16', '97'], ['19', 'UNITED STATES', '12', '93'], ['20', 'PAPUA NEW GUINEA', '0', '0']] [['1', 'ENGLAND', '278', '7786'], ['2', 'INDIA', '273', '7093'], ['3', 'NEW ZEALAND', '263', '6048'], ['4', 'PAKISTAN', '261', '8883'], ['5', 'SOUTH AFRICA', '246', '6640'], ['6', 'AUSTRALIA', '240', '7923'], ['7', 'AFGHANISTAN', '236', '2826'], ['8', 'SRI LANKA', '235', '4456'], ['9', 'WEST INDIES', '234', '6792'], ['10', 'BANGLADESH', '234', '4915'], ['11', 'ZIMBABWE', '193', '4249'], ['12', 'NEPAL', '187', '3556'], ['13', 'IRELAND', '187', '3921'], ['14', 'SCOTLAND', '185', '2035'], ['15', 'UAE', '184', '2023'], ['16', 'PAPUA NEW GUINEA', '179', '2501'], ['17', 'NETHERLANDS', '175', '3504'], ['18', 'OMAN', '173', '1732'], ['19', 'NAMIBIA', '157', '2204'], ['20', 'SINGAPORE', '140', '1678'], ['21', 'QATAR', '129', '1422'], ['22', 'CANADA', '126', '1263'], ['23', 'HONG KONG', '121', '1572'], ['24', 'JERSEY', '114', '1481'], ['25', 'KENYA', '112', '894'], ['26', 'ITALY', '111', '663'], ['27', 'KUWAIT', '108', '866'], ['28', 'SAUDI ARABIA', '107', '428'], ['29', 'DENMARK', '101', '606'], ['30', 'BERMUDA', '95', '568'], ['31', 'MALAYSIA', '86', '1723'], ['32', 'UGANDA', '85', '847'], ['33', 'GERMANY', '84', '759'], ['34', 'UNITED STATES', '81', '644'], ['35', 'BOTSWANA', '79', '786'], ['36', 'NIGERIA', '75', '375'], ['37', 'GUERNSEY', '72', '645'], ['39', 'AUSTRIA', '65', '650'], ['41', 'SPAIN', '57', '457'], ['42', 'BAHRAIN', '57', '227'], ['43', 'BELGIUM', '56', '502'], ['44', 'TANZANIA', '56', '167'], ['45', 'PHILIPPINES', '48', '241'], ['46', 'MEXICO', '45', '313'], ['48', 'VANUATU', '44', '435'], ['49', 'BELIZE', '42', '209'], ['50', 'ARGENTINA', '41', '206'], ['51', 'PERU', '36', '179'], ['52', 'FIJI', '35', '105'], ['53', 'MALAWI', '35', '312'], ['54', 'PANAMA', '32', '162'], ['55', 'SAMOA', '32', '159'], ['56', 'JAPAN', '32', '126'], ['57', 'COSTA RICA', '32', '126'], ['58', 'MALTA', '31', '214'], ['59', 'LUXEMBOURG', '30', '358'], ['60', 'THAILAND', '25', '175'], ['61', 'BULGARIA', '24', '313'], ['62', 'PORTUGAL', '24', '119'], ['63', 'CZECH REPUBLIC', '22', '356'], ['64', 'FINLAND', '21', '106'], ['65', 'SOUTH KOREA', '20', '78'], ['66', 'MOZAMBIQUE', '19', '175'], ['67', 'ISLE OF MAN', '19', '77'], ['69', 'BHUTAN', '12', '47'], ['70', 'MALDIVES', '9', '65'], ['71', 'SAINT HELENA', '9', '55'], ['72', 'BRAZIL', '8', '39'], ['73', 'CHILE', '4', '19'], ['74', 'GIBRALTAR', '3', '13'], ['75', 'MYANMAR', '0', '1'], ['76', 'INDONESIA', '0', '0'], ['77', 'LESOTHO', '0', '0'], ['78', 'RWANDA', '0', '0'], ['81', 'CHINA', '0', '0']]    Position          Team  Rating  Points\n",
      "0         1   NEW ZEALAND     126    2764\n",
      "1         2         INDIA     119    2987\n",
      "2         3     AUSTRALIA     108    1844\n",
      "3         4       ENGLAND     107    3753\n",
      "4         5      PAKISTAN      94    2247\n",
      "5         6  SOUTH AFRICA      88    1675\n",
      "6         7   WEST INDIES      78    2114\n",
      "7         8     SRI LANKA      78    2095\n",
      "8         9    BANGLADESH      49     779\n",
      "9        10      ZIMBABWE      31     342\n"
     ]
    }
   ],
   "source": [
    "driver = webdriver.Chrome(executable_path=driverpath)\n",
    "driver.get(\"https://www.cricbuzz.com/cricket-stats/icc-rankings/men/teams\")\n",
    "\n",
    "driver.find_element_by_xpath(\"//a[@id='teams-tests-tab']\").click()\n",
    "a=driver.find_elements_by_xpath(\"//a[@id='teams-tests-tab']//following::div[contains(@class,'cb-col cb-col-100 cb-font-14 cb-brdr-thin-btm text-center')]\")\n",
    "l=[]\n",
    "for i in a:\n",
    "    l.append(i.text.split(\"\\n\"))\n",
    "print(l,end=\" \")\n",
    "driver.find_element_by_xpath(\"//a[@id='teams-odis-tab']\").click()\n",
    "c=driver.find_elements_by_xpath(\"//a[@id='teams-odis-tab']//following::div[contains(@class,'cb-col cb-col-100 cb-font-14 cb-brdr-thin-btm text-center')]\")\n",
    "l1=[]\n",
    "for j in c:\n",
    "    if j.text!='':\n",
    "        l1.append(j.text.split(\"\\n\"))\n",
    "print(l1,end=\" \")\n",
    "driver.find_element_by_xpath(\"//a[@id='teams-t20s-tab']\").click()\n",
    "d=driver.find_elements_by_xpath(\"//a[@id='teams-t20s-tab']//following::div[contains(@class,'cb-col cb-col-100 cb-font-14 cb-brdr-thin-btm text-center')]\")\n",
    "\n",
    "l2=[]\n",
    "for k in d:\n",
    "    if k.text!='':\n",
    "        l2.append(k.text.split(\"\\n\"))\n",
    "print(l2,end=\" \")\n",
    "# dataframe\n",
    "\n",
    "\n",
    "writer = pd.ExcelWriter('team.xlsx', engine='xlsxwriter')\n",
    "df = pd.DataFrame(l, columns = [\"Position\",\"Team\",\"Rating\",\"Points\"])\n",
    "df1 = pd.DataFrame(l1, columns =[\"Position\",\"Team\",\"Rating\",\"Points\"])\n",
    "df2 = pd.DataFrame(l2, columns =[\"Position\",\"Team\",\"Rating\",\"Points\"])\n",
    "\n",
    "time.sleep(2)\n",
    "\n",
    "writer.save()\n",
    "\n",
    "writer = pd.ExcelWriter('team.xlsx', engine='xlsxwriter')\n",
    "\n",
    "df.to_excel(writer, sheet_name='team-TEST', index=False)\n",
    "df1.to_excel(writer,sheet_name='team-ODI', index=False)\n",
    "df2.to_excel(writer,sheet_name='team-T20', index=False)\n",
    "\n",
    "writer.save()\n",
    "reader = pd.read_excel(r'team.xlsx')\n",
    "print(reader)\n",
    "df.to_excel(writer,index=False,header=False)\n",
    "df1.to_excel(writer,index=False,header=False)\n",
    "df2.to_excel(writer,index=False,header=False)"
   ]
  },
  {
   "cell_type": "code",
   "execution_count": null,
   "id": "52467f6d",
   "metadata": {},
   "outputs": [],
   "source": []
  },
  {
   "cell_type": "code",
   "execution_count": null,
   "id": "cd0daa6f",
   "metadata": {},
   "outputs": [],
   "source": []
  }
 ],
 "metadata": {
  "kernelspec": {
   "display_name": "Python 3",
   "language": "python",
   "name": "python3"
  },
  "language_info": {
   "codemirror_mode": {
    "name": "ipython",
    "version": 3
   },
   "file_extension": ".py",
   "mimetype": "text/x-python",
   "name": "python",
   "nbconvert_exporter": "python",
   "pygments_lexer": "ipython3",
   "version": "3.8.8"
  }
 },
 "nbformat": 4,
 "nbformat_minor": 5
}
