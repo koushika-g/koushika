{
 "cells": [
  {
   "cell_type": "code",
   "execution_count": 7,
   "id": "9602edeb",
   "metadata": {},
   "outputs": [],
   "source": [
    "import selenium\n",
    "from selenium import webdriver \n",
    "from selenium.webdriver.support.ui import Select\n",
    "import time\n",
    "import pandas as pd\n",
    "import os"
   ]
  },
  {
   "cell_type": "code",
   "execution_count": 23,
   "id": "83c94bf8",
   "metadata": {},
   "outputs": [
    {
     "name": "stdout",
     "output_type": "stream",
     "text": [
      "[[\"Women's Handbag (FRB-315_Red)\"], [\"Women's PU Leather Handbag Combo (4-teddy-pink)\"], [\"Women's Tote Bag\"], [\"Women's Catlin Handbag (Maroon) (FSB-1033)\"], [\"Women's Handbag (ASN-135_Purple)\"], ['Women Hand Bag With Combo'], [\"Women's Handbag (Set of 3) (FIESTO33_Blue)\"], [\"Women's Handbag (Green)\"], ['Faux Leather Women Handbags Shoulder Hobo Bag Purse With Long Strap'], [\"Women's Handbag (Peach)\"], ['Extra Large Malnov Women’s Tote Bag'], [\"Ushawu Dome Satchel Women's Handbag\"], [\"Leatherette Latest Handbags For Women's Ladies Combo Of 4 (Black_PrintStrip_EVS-119-2)\"], [\"Women's Style Diva Handbag (Tan) (FSB-396)\"], ['Handbag For Women And Girls COMBO SET OF 5 (BG-BKL-S05)'], [\"Women's Handbag (Set of 4) (4L-bib-Bpink_Pink)\"], [\"Betula Women's Tote Bag\"], [\"Women's PU Leather Handbag Combo (Set of 3)\"], [\"Women's Tote Bag\"], [\"Speed X Fashion Women's Handbag\"], [\"Women's Handbag (FRB-312_Black)\"], [\"Tilda Women's Shoulder Bag (Yellow) (Units 1)\"], ['Figure Graphic Tote Bag(WBAG-13), WHITE'], [\"Leatherette Handbags For Women's Ladies (ChainStrap_Black_EVS-110)\"], [\"Women's Handbag in Premium Navy Blue Color Shoulder Bag and Wallet for Women\"], [\"Leatherette Latest Handbags For Women's Ladies Combo Of 4 (BabyPink_PrintStrip_EVS-118)\"], [\"Women's stylish Handbags\"], ['Pavo Women’s Tote Bag'], [\"women's Handbag combo Grey (set of 5)\"], [\"Women's Tote Bag with Long Tassel (Multicolour)\"], [\"Women's Zara Handbag (Tan) (FSB-1051)\"], [\"Women's Handbag (BLACK PRINT_Black)\"], [\"Women's Westside Handbag (Grey) (FSB-1237)\"], [\"Women's Grey PU Leather Handbag Combo (4ribn-grey-tie)\"], [\"Women's D pocket maroon synthetic Shoulder handbag and wallet\"], ['Handbag'], [\"Women's Handbag, Sling Bag, Clutch & Card Holder(Set of 5, Sky Blue)\"], [\"Ficus Women's Satchel Handbag\"], [\"Women's & Girl's Handbag (Multicolored)\"], [\"Horse Women's Handbag\"], ['EcoRight Large Canvas Tote Bags for Women with Zipper | Shopping Bag for Grocery, Travel, Beach | Shoulder Handbags for Women, College Bags for Girls Stylish Trendy'], [\"Women's Floral Printed Tote Bag\"], [\"Women's Beige PU Leather Handbag Combo (set of 4)\"], [\"Ushawu Women's Satchel\"], ['EcoRight Canvas Tote Bags for Women, Printed Organic Cotton Bags for Women, Cute Hand Bag for Girls for College, Travel, Grocery, Reusable Shopping Bag | Book Bag'], [\"Women's Stylish Handbags Combo(3LR-bib-Green-Tie)\"], ['Faux Leather Handbag'], [\"Men's Printed Jute Tiffin Bag with Zip (Grey, Medium)\"], ['Extra Large Malnov Women’s Tote Bag'], ['Brown Handbag for Women'], ['Leatherette Satchel'], [\"Women's Handbag (Grey)\"], ['Need help?']] [['520'], ['649'], ['389'], ['645'], ['549'], ['606'], ['649'], ['520'], ['1,519'], ['332'], ['875'], ['1,479'], ['689'], ['645'], ['659'], ['689'], ['1,053'], ['599'], ['495'], ['594'], ['520'], ['799'], ['299'], ['369'], ['389'], ['689'], ['399'], ['1,000'], ['749'], ['475'], ['562'], ['304'], ['645'], ['649'], ['399'], ['599'], ['699'], ['1,465'], ['399'], ['1,124'], ['499'], ['649'], ['1,317'], ['299'], ['599'], ['1,438'], ['275'], ['1,150'], ['1,599'], ['1,188'], ['1,499']] [['₹2,599'], ['₹3,499'], ['₹1,499'], ['₹2,399'], ['₹1,799'], ['₹2,999'], ['₹2,999'], ['₹2,199'], ['₹1,999'], ['₹1,599'], ['₹2,499'], ['₹4,499'], ['₹3,499'], ['₹2,799'], ['₹1,499'], ['₹3,499'], ['₹3,190'], ['₹3,499'], ['₹1,960'], ['₹4,099'], ['₹2,599'], ['₹4,599'], ['₹1,199'], ['₹1,599'], ['₹1,599'], ['₹3,499'], ['₹1,700'], ['₹2,499'], ['₹4,000'], ['₹1,299'], ['₹2,199'], ['₹899'], ['₹2,299'], ['₹3,499'], ['₹1,599'], ['₹1,099'], ['₹2,999'], ['₹4,190'], ['₹999'], ['₹3,990'], ['₹799'], ['₹3,499'], ['₹4,199'], ['₹499'], ['₹3,499'], ['₹4,495'], ['₹599'], ['₹2,490'], ['₹3,499'], ['₹3,495'], ['₹3,499']] "
     ]
    }
   ],
   "source": [
    "os.chdir(r\"C:\\Users\\Merit\\Desktop\\pythontask\")\n",
    "driverpath=r\"C:\\Users\\Merit\\Downloads\\chromedriver_win32\\chromedriver.exe\"\n",
    "driver = webdriver.Chrome(executable_path=driverpath)\n",
    "driver.get(\"https://www.amazon.in/s?i=shoes&bbn=1983338031&rh=n%3A1571283031%2Cn%3A1983338031%2Cn%3A17095063031&s=popularity-rank&dc&pf_rd_i=2454169031&pf_rd_m=A1VBAL9TL5WCBF&pf_rd_p=6a10e1a0-13ff-4d63-b1fe-4de1fd7e2e6b&pf_rd_r=M81P6DWVC308PJ7Z6EQB&pf_rd_s=merchandised-search-8&qid=1613210360&rnid=1983338031&ref=sr_st_popularity-rank\")\n",
    "\n",
    "\n",
    "a=driver.find_elements_by_xpath(\"//h2\")\n",
    "l=[]\n",
    "for i in a:\n",
    "    l.append(i.text.split(\"\\n\"))\n",
    "print(l,end=\" \")\n",
    "b=driver.find_elements_by_xpath(\"//span[@class='a-price-whole']\")\n",
    "l1=[]\n",
    "for j in b:\n",
    "    if j.text!='':\n",
    "        l1.append(j.text.split(\"\\n\"))\n",
    "print(l1,end=\" \")\n",
    "c=driver.find_elements_by_xpath(\"//span[@class='a-price a-text-price']\")\n",
    "\n",
    "l2=[]\n",
    "for k in c:\n",
    "    if k.text!='':\n",
    "        l2.append(k.text.split(\"\\n\"))\n",
    "print(l2,end=\" \")\n",
    "\n",
    "\n",
    "df=pd.DataFrame(list(zip(l,l1,l2)),columns=[\"Product Name\",\"Original Price\",\"discount_price\"])\n",
    "writer = pd.ExcelWriter('handbags.xlsx', engine='xlsxwriter')\n",
    "df.to_excel(writer, sheet_name=\"handbag\", index=False)\n",
    "writer.save()\n",
    "\n",
    "driver.close()"
   ]
  },
  {
   "cell_type": "code",
   "execution_count": null,
   "id": "70aec0df",
   "metadata": {},
   "outputs": [],
   "source": []
  },
  {
   "cell_type": "code",
   "execution_count": null,
   "id": "00c6a341",
   "metadata": {},
   "outputs": [],
   "source": []
  },
  {
   "cell_type": "code",
   "execution_count": null,
   "id": "7a175288",
   "metadata": {},
   "outputs": [],
   "source": []
  },
  {
   "cell_type": "code",
   "execution_count": null,
   "id": "c607ac6a",
   "metadata": {},
   "outputs": [],
   "source": []
  }
 ],
 "metadata": {
  "kernelspec": {
   "display_name": "Python 3",
   "language": "python",
   "name": "python3"
  },
  "language_info": {
   "codemirror_mode": {
    "name": "ipython",
    "version": 3
   },
   "file_extension": ".py",
   "mimetype": "text/x-python",
   "name": "python",
   "nbconvert_exporter": "python",
   "pygments_lexer": "ipython3",
   "version": "3.8.8"
  }
 },
 "nbformat": 4,
 "nbformat_minor": 5
}
